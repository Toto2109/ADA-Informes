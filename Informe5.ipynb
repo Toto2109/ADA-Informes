{
  "nbformat": 4,
  "nbformat_minor": 0,
  "metadata": {
    "colab": {
      "provenance": [],
      "collapsed_sections": []
    },
    "kernelspec": {
      "name": "python3",
      "display_name": "Python 3"
    },
    "language_info": {
      "name": "python"
    }
  },
  "cells": [
    {
      "cell_type": "markdown",
      "source": [
        "# 1. Problema de Ordenamiento\n",
        "\n",
        "**Entrada**: Secuencia de n números $[a_1,a_2,...,a_n]$\n",
        "\n",
        "**Salida**: Misma secuencia de n numeros pero ordenada $[a_1',a_2',...,a_n']$\n",
        "\n",
        "Estos problemas son soluciandos con algoritmos los cuales reciben un conjunto de datos desordenado, y mediante operaciones, y permutaciones hacen que este conjunto tenga un orden logico."
      ],
      "metadata": {
        "id": "jT2qsbCS3Fzu"
      }
    },
    {
      "cell_type": "markdown",
      "source": [
        "#2. BucketSort\n",
        "\n",
        "El siguiente codio muestra una impletacion del codido *Bucketsort*"
      ],
      "metadata": {
        "id": "Bjw3qOZBWfCH"
      }
    },
    {
      "cell_type": "markdown",
      "source": [
        "##2.1 Codigo"
      ],
      "metadata": {
        "id": "XbUYBQR7WjaH"
      }
    },
    {
      "cell_type": "code",
      "source": [
        "from termcolor import colored\n",
        "def insertionSort(arr):\n",
        "  for i in range(1,len(arr)):\n",
        "    h = arr[i]\n",
        "    j = i -1\n",
        "    while j >= 0 and arr[j] > h:\n",
        "      arr[j+1] = arr[j]\n",
        "      j -=1\n",
        "    arr[j+1] = h\n",
        "  return arr\n",
        "\n",
        "\n",
        "def bucketSort(input_arr,verbose = False):\n",
        "  arr = [] #Arreglo donde iran almacenados los buckets\n",
        "  slot = 10 #Cantidad de buckets\n",
        "\n",
        "  if verbose == True:\n",
        "    print(\"Arreglo de entrada\")\n",
        "    print(colored(f\"{str(input_arr)}\",\"green\"),\"\\n\")\n",
        "\n",
        "  for i in range(slot):\n",
        "    arr.append([])  #se completa el arreglo con los buckets(arreglos) vacios\n",
        "  if verbose == True:\n",
        "    print(\"Buckets creados\")\n",
        "    print(colored(f\"{str(arr)}\",\"green\"),\"\\n\")\n",
        "\n",
        "  if verbose == True:\n",
        "    print(\"Rellenado de buckets\")\n",
        "\n",
        "  for i in input_arr:\n",
        "    index =  int (slot * i) #se calcula el bucket donde debe ir el elemento i\n",
        "    arr[index].append(i)  #se agrega al bucket correspondiente\n",
        "    if verbose == True:\n",
        "      print(\"\\nElemento \", i , \"agrado al bucket\", index +1)\n",
        "      print(\"Bucket\", index + 1, str(arr[index]))\n",
        "      print(\"Todos los buckets\\n\", colored(f\"{str(arr[:index])}\",\"blue\"), colored(f\"{str(arr[index:index+1])}\",\"red\"),colored(f\"{str(arr[index+1:])}\",\"blue\"))\n",
        "\n",
        "  if verbose == True:\n",
        "    print(\"\\nOrdenado de buckets\")\n",
        "\n",
        "  for i in range(slot):\n",
        "    if verbose == True:\n",
        "      print(\"\\nBucket \", i +1)\n",
        "      print(\"Antes:\")\n",
        "      print(str(arr[i]))\n",
        "    arr[i]= insertionSort(arr[i]) #se ordena el bucket usando insertionSort\n",
        "    if verbose == True:\n",
        "      print(\"Despues:\")\n",
        "      print(str(arr[i]))\n",
        "  \n",
        "  if verbose == True:\n",
        "    print(\"\\n Vaciado de los buckets\")\n",
        "\n",
        "  k = 0\n",
        "  for i in range(slot):\n",
        "    if verbose == True:\n",
        "      print(\"\\n Bucket \", i+1)\n",
        "    for j in range(len(arr[i])):\n",
        "      input_arr[k] = arr[i][j] #se saca el elemento del bucke y se pone en la posicion que le corresponde en el arreglo original\n",
        "      if verbose == True:\n",
        "        print(colored(f\"{str(input_arr[:k])}\",\"blue\"),colored(f\"{str(input_arr[k:k+1])}\",\"red\"),colored(f\"{str(input_arr[k+1:])}\",\"blue\"),\"\\n\")\n",
        "      k += 1\n",
        "\n",
        "# Driver Code\n",
        "x = [0.78, 0.17, 0.39,0.26, 0.72, 0.94,0.21,0.12,0.23,0.68]\n",
        "print(\"arreglo antes:\")\n",
        "print(x)\n",
        "bucketSort(x)\n",
        "print(\"arreglo despues:\")\n",
        "print(x)\n",
        "\n"
      ],
      "metadata": {
        "colab": {
          "base_uri": "https://localhost:8080/"
        },
        "id": "jzXA1NxV_A5p",
        "outputId": "911550b4-346c-4b91-ce6a-e6e4dcca76b9"
      },
      "execution_count": null,
      "outputs": [
        {
          "output_type": "stream",
          "name": "stdout",
          "text": [
            "arreglo antes:\n",
            "[0.78, 0.17, 0.39, 0.26, 0.72, 0.94, 0.21, 0.12, 0.23, 0.68]\n",
            "arreglo despues:\n",
            "[0.12, 0.17, 0.21, 0.23, 0.26, 0.39, 0.68, 0.72, 0.78, 0.94]\n"
          ]
        }
      ]
    },
    {
      "cell_type": "markdown",
      "source": [
        "## 2.2. Descripción del algoritmo\n",
        "\n",
        "El algoritmo recibe como entrada una lista (o arreglo) $a$ con la secuencia de $n$ elementos que queremos ordenar. estos elementos se enucuentran desde en un rango [0,1]\n",
        "Los pasos que realiza este algoritmo son los siguientes\n",
        "\n",
        "1. Se divide el arreglo en n sub-interbalos, estos se llamaran buckets.\n",
        "\n",
        "2. Se recorre el arreglo para ir agreando los elementos los buckets segun correponda.\n",
        "\n",
        "3. Se ordenan los buckets haciendo uso de algun otro algortimo, para finalmente \"vaciar\" los buckets en el arreglo original\n",
        "\n",
        "Cuando la variable `verbose` es `True` se muestra información para ver lo que pasa paso a paso dentro de la función."
      ],
      "metadata": {
        "id": "XHIw15F97CnZ"
      }
    },
    {
      "cell_type": "markdown",
      "source": [
        "## 2.4. Ejecución del algoritmo paso a paso (`verbose=True`)\n",
        "\n",
        "Usando la opción `verbose=True`, podemos ver lo que ocurre en cada iteración del algoritmo."
      ],
      "metadata": {
        "id": "5TZnpkE0dgta"
      }
    },
    {
      "cell_type": "code",
      "source": [
        "import random\n",
        "a = random.sample(range(1, 100), 6)\n",
        "for i in range(0,6):\n",
        "  a[i] = a[i]/100\n",
        "\n",
        "bucketSort(a,True)\n",
        "print(\"Arreglo de Salida :\", a)"
      ],
      "metadata": {
        "colab": {
          "base_uri": "https://localhost:8080/"
        },
        "id": "H_93UBKv8VQl",
        "outputId": "5af758af-2a0d-4660-86cd-c4eff2ffd175"
      },
      "execution_count": null,
      "outputs": [
        {
          "output_type": "stream",
          "name": "stdout",
          "text": [
            "Arreglo de entrada\n",
            "\u001b[32m[0.43, 0.03, 0.41, 0.99, 0.96, 0.46]\u001b[0m \n",
            "\n",
            "Buckets creados\n",
            "\u001b[32m[[], [], [], [], [], [], [], [], [], []]\u001b[0m \n",
            "\n",
            "Rellenado de buckets\n",
            "\n",
            "Elemento  0.43 agrado al bucket 5\n",
            "Bucket 5 [0.43]\n",
            "Todos los buckets\n",
            " \u001b[34m[[], [], [], []]\u001b[0m \u001b[31m[[0.43]]\u001b[0m \u001b[34m[[], [], [], [], []]\u001b[0m\n",
            "\n",
            "Elemento  0.03 agrado al bucket 1\n",
            "Bucket 1 [0.03]\n",
            "Todos los buckets\n",
            " \u001b[34m[]\u001b[0m \u001b[31m[[0.03]]\u001b[0m \u001b[34m[[], [], [], [0.43], [], [], [], [], []]\u001b[0m\n",
            "\n",
            "Elemento  0.41 agrado al bucket 5\n",
            "Bucket 5 [0.43, 0.41]\n",
            "Todos los buckets\n",
            " \u001b[34m[[0.03], [], [], []]\u001b[0m \u001b[31m[[0.43, 0.41]]\u001b[0m \u001b[34m[[], [], [], [], []]\u001b[0m\n",
            "\n",
            "Elemento  0.99 agrado al bucket 10\n",
            "Bucket 10 [0.99]\n",
            "Todos los buckets\n",
            " \u001b[34m[[0.03], [], [], [], [0.43, 0.41], [], [], [], []]\u001b[0m \u001b[31m[[0.99]]\u001b[0m \u001b[34m[]\u001b[0m\n",
            "\n",
            "Elemento  0.96 agrado al bucket 10\n",
            "Bucket 10 [0.99, 0.96]\n",
            "Todos los buckets\n",
            " \u001b[34m[[0.03], [], [], [], [0.43, 0.41], [], [], [], []]\u001b[0m \u001b[31m[[0.99, 0.96]]\u001b[0m \u001b[34m[]\u001b[0m\n",
            "\n",
            "Elemento  0.46 agrado al bucket 5\n",
            "Bucket 5 [0.43, 0.41, 0.46]\n",
            "Todos los buckets\n",
            " \u001b[34m[[0.03], [], [], []]\u001b[0m \u001b[31m[[0.43, 0.41, 0.46]]\u001b[0m \u001b[34m[[], [], [], [], [0.99, 0.96]]\u001b[0m\n",
            "\n",
            "Ordenado de buckets\n",
            "\n",
            "Bucket  1\n",
            "Antes:\n",
            "[0.03]\n",
            "Despues:\n",
            "[0.03]\n",
            "\n",
            "Bucket  2\n",
            "Antes:\n",
            "[]\n",
            "Despues:\n",
            "[]\n",
            "\n",
            "Bucket  3\n",
            "Antes:\n",
            "[]\n",
            "Despues:\n",
            "[]\n",
            "\n",
            "Bucket  4\n",
            "Antes:\n",
            "[]\n",
            "Despues:\n",
            "[]\n",
            "\n",
            "Bucket  5\n",
            "Antes:\n",
            "[0.43, 0.41, 0.46]\n",
            "Despues:\n",
            "[0.41, 0.43, 0.46]\n",
            "\n",
            "Bucket  6\n",
            "Antes:\n",
            "[]\n",
            "Despues:\n",
            "[]\n",
            "\n",
            "Bucket  7\n",
            "Antes:\n",
            "[]\n",
            "Despues:\n",
            "[]\n",
            "\n",
            "Bucket  8\n",
            "Antes:\n",
            "[]\n",
            "Despues:\n",
            "[]\n",
            "\n",
            "Bucket  9\n",
            "Antes:\n",
            "[]\n",
            "Despues:\n",
            "[]\n",
            "\n",
            "Bucket  10\n",
            "Antes:\n",
            "[0.99, 0.96]\n",
            "Despues:\n",
            "[0.96, 0.99]\n",
            "\n",
            " Vaciado de los buckets\n",
            "\n",
            " Bucket  1\n",
            "\u001b[34m[]\u001b[0m \u001b[31m[0.03]\u001b[0m \u001b[34m[0.03, 0.41, 0.99, 0.96, 0.46]\u001b[0m \n",
            "\n",
            "\n",
            " Bucket  2\n",
            "\n",
            " Bucket  3\n",
            "\n",
            " Bucket  4\n",
            "\n",
            " Bucket  5\n",
            "\u001b[34m[0.03]\u001b[0m \u001b[31m[0.41]\u001b[0m \u001b[34m[0.41, 0.99, 0.96, 0.46]\u001b[0m \n",
            "\n",
            "\u001b[34m[0.03, 0.41]\u001b[0m \u001b[31m[0.43]\u001b[0m \u001b[34m[0.99, 0.96, 0.46]\u001b[0m \n",
            "\n",
            "\u001b[34m[0.03, 0.41, 0.43]\u001b[0m \u001b[31m[0.46]\u001b[0m \u001b[34m[0.96, 0.46]\u001b[0m \n",
            "\n",
            "\n",
            " Bucket  6\n",
            "\n",
            " Bucket  7\n",
            "\n",
            " Bucket  8\n",
            "\n",
            " Bucket  9\n",
            "\n",
            " Bucket  10\n",
            "\u001b[34m[0.03, 0.41, 0.43, 0.46]\u001b[0m \u001b[31m[0.96]\u001b[0m \u001b[34m[0.46]\u001b[0m \n",
            "\n",
            "\u001b[34m[0.03, 0.41, 0.43, 0.46, 0.96]\u001b[0m \u001b[31m[0.99]\u001b[0m \u001b[34m[]\u001b[0m \n",
            "\n",
            "Arreglo de Salida : [0.03, 0.41, 0.43, 0.46, 0.96, 0.99]\n"
          ]
        }
      ]
    },
    {
      "cell_type": "markdown",
      "source": [
        "# 3. Tiempo de ejecución\n",
        "\n",
        "### **Teorema (Tiempo de ejecución).**\n",
        "\n",
        "El tiempo de ejecuccon se divide en 3 partes, la primera es cuando inicializa los buckets y calcular un el rango; esto tiene un tiempo de ejuccion O(n),despues colocar los elementos en cada bucket un tiempo tambien de O(n) y por ultimo colocar cada elemento de vuelta tiene tiempo de ejecucion O(k),para k el numero de buckets que fueron creados.\n",
        "Y esto da un tiempo de ejecucion promedio de O(n+n^2/k+k), para un k igual numero de elementos tiene un tiempo de ejecucion O(n)\n",
        "\n",
        "El peor caso es cuando todos los elementos son agregados a un mismo buckets"
      ],
      "metadata": {
        "id": "NmzbekC-4NNC"
      }
    },
    {
      "cell_type": "markdown",
      "source": [
        "# 4. Correctitud\n",
        "\n",
        "### **Teorema 1**\n",
        "Propiedad invariante de bucle\n",
        "> Cada elementos A[i] del arreglo se econtrara en el bucket que corresponda \n",
        "\n",
        "## Prueba del Teorema\n",
        "\n",
        "### Primer parte\n",
        "```\n",
        "for i in range(slot):\n",
        "    arr.append([])\n",
        "```\n",
        "Iniciacion:\n",
        "Como inicialmente se crea el primer bucket, y este no contiene elementos, si se cumple la propiedad\n",
        "\n",
        "Mantencion:\n",
        "Para la i-esima iteracion se sigue mantiendo la propiedad como los buckets son recien inicialiazados \n",
        "\n",
        "### Segunda parte\n",
        "```\n",
        "  for i in input_arr:\n",
        "    index =  int (slot * i)\n",
        "    arr[index].append(i)\n",
        "```\n",
        "Iniciacion:\n",
        "Inicialmente se calcula su posicion (index), por lo que al ser agregado despues si se cumple la propiedad\n",
        "\n",
        "Mantencion:\n",
        "Para la i-esima iteracion se sigue calculando su posicion correctamente y agregando al bucket\n",
        "\n",
        "\n",
        "### Tercera parte\n",
        "```\n",
        "  for i in range(slot):\n",
        "    arr[i]= insertionSort(arr[i])\n",
        "```\n",
        "Iniciacion:\n",
        "Para el primer bucket se ordena haciendo uso del instertionSort, como esta operacion solo ordena el bucket sin quitar o agregar elementos si se cumple la propiedad\n",
        "\n",
        "Mantencion:\n",
        "Para la i-esima iteracion como se sigue realizando la misma operacion, se sigue manteniendo la propiedad\n",
        "\n",
        "### Cuarta parte\n",
        "```\n",
        "  k = 0\n",
        "  for i in range(slot):\n",
        "    for j in range(len(arr[i])):\n",
        "      input_arr[k] = arr[i][j]\n",
        "      k += 1\n",
        "```\n",
        "Iniciacion:\n",
        "Cuando se inician a vaciar los buckets, los elementos son quitados de este y en ningun momento agrega nuevos elementos, por lo que la propiedad se sigue cumpliendo\n",
        "\n",
        "Mantencion:\n",
        "Para la i-esima iteracion siguen sin ser agregado nuevos elementos al bucket por lo tanto se cumple la propiedad en todo momento"
      ],
      "metadata": {
        "id": "-ifxrrqlC4Hc"
      }
    },
    {
      "cell_type": "markdown",
      "source": [
        "# 5. Experimentos\n",
        "\n",
        "## 5.1. Comparacion\n",
        "\n",
        "A continuación se muestra gráficamente una comparación entre:\n",
        "\n",
        "* Tiempo de ejecucion con distintos algoritmos de ordenamiento.\n",
        "* RadixSort y BucketSort\n",
        "\n",
        "para tamaños de problemas con $n \\in [5,19]$.\n",
        "\n",
        "A continuacion se muestra un gráfico en el cual se realizaron las siguientes comparaciones intercambiando los algortimos de ordenamiento\n",
        "\n",
        "* insertionSort\n",
        "* mergeSort\n",
        "* heapSort\n"
      ],
      "metadata": {
        "id": "2hYUM_9OHF38"
      }
    },
    {
      "cell_type": "code",
      "source": [
        "def bucketSortInt(arr):\n",
        "  maxEle = max(arr)\n",
        "  minEle = min(arr)\n",
        "\n",
        "  Range = (maxEle - minEle) / 10\n",
        "  aux = []\n",
        "  \n",
        "  for i in range(10):\n",
        "    aux.append([])\n",
        "  \n",
        "  for i in range(len(arr)):\n",
        "    diff = (arr[i] - minEle) / Range - int((arr[i] - minEle)/Range)\n",
        "    \n",
        "    if(diff == 0 and arr[i] != minEle):\n",
        "      aux[int((arr[i]-minEle)/Range)-1].append(arr[i])\n",
        "    else:\n",
        "      aux[int((arr[i]-minEle)/Range)].append(arr[i])\n",
        "  for i in range(len(aux)):\n",
        "    aux[i] = insertionSort(aux[i])\n",
        "  \n",
        "  k = 0\n",
        "  for lst in aux:\n",
        "    if lst:\n",
        "      for i in lst:\n",
        "        arr[k] = i\n",
        "        k+=1\n"
      ],
      "metadata": {
        "id": "EQkZgiYusWjj"
      },
      "execution_count": null,
      "outputs": []
    },
    {
      "cell_type": "code",
      "source": [
        "def mergeSort(arr):\n",
        "\tif len(arr) > 1:\n",
        "\n",
        "\t\tmid = len(arr)//2\n",
        "\n",
        "\t\tL = arr[:mid]\n",
        "\t\tR = arr[mid:]\n",
        "\n",
        "\t\tmergeSort(L)\n",
        "\t\tmergeSort(R)\n",
        "\n",
        "\t\ti = j = k = 0\n",
        "\t\twhile i < len(L) and j < len(R):\n",
        "\t\t\tif L[i] < R[j]:\n",
        "\t\t\t\tarr[k] = L[i]\n",
        "\t\t\t\ti += 1\n",
        "\t\t\telse:\n",
        "\t\t\t\tarr[k] = R[j]\n",
        "\t\t\t\tj += 1\n",
        "\t\t\tk += 1\n",
        "\n",
        "\t\twhile i < len(L):\n",
        "\t\t\tarr[k] = L[i]\n",
        "\t\t\ti += 1\n",
        "\t\t\tk += 1\n",
        "\n",
        "\t\twhile j < len(R):\n",
        "\t\t\tarr[k] = R[j]\n",
        "\t\t\tj += 1\n",
        "\t\t\tk += 1\n",
        "\n",
        "def bucketSortIntMerge(arr):\n",
        "  maxEle = max(arr)\n",
        "  minEle = min(arr)\n",
        "\n",
        "  Range = (maxEle - minEle) / 10\n",
        "  aux = []\n",
        "  \n",
        "  for i in range(10):\n",
        "    aux.append([])\n",
        "  \n",
        "  for i in range(len(arr)):\n",
        "    diff = (arr[i] - minEle) / Range - int((arr[i] - minEle)/Range)\n",
        "    \n",
        "    if(diff == 0 and arr[i] != minEle):\n",
        "      aux[int((arr[i]-minEle)/Range)-1].append(arr[i])\n",
        "    else:\n",
        "      aux[int((arr[i]-minEle)/Range)].append(arr[i])\n",
        "  for i in range(len(aux)):\n",
        "    aux[i] = mergeSort(aux[i])\n",
        "  \n",
        "  k = 0\n",
        "  for lst in aux:\n",
        "    if lst:\n",
        "      for i in lst:\n",
        "        arr[k] = i\n",
        "        k+=1"
      ],
      "metadata": {
        "id": "yQZ7AUWr0rNl"
      },
      "execution_count": null,
      "outputs": []
    },
    {
      "cell_type": "code",
      "source": [
        "def heapify(arr, N, i):\n",
        "\tlargest = i \n",
        "\tl = 2 * i + 1\t \n",
        "\tr = 2 * i + 2\n",
        "\n",
        "\tif l < N and arr[largest] < arr[l]:\n",
        "\t\tlargest = l\n",
        "\n",
        "\tif r < N and arr[largest] < arr[r]:\n",
        "\t\tlargest = r\n",
        "\n",
        "\tif largest != i:\n",
        "\t\tarr[i], arr[largest] = arr[largest], arr[i]\n",
        "\n",
        "\t\theapify(arr, N, largest)\n",
        "\n",
        "def heapSort(arr):\n",
        "\tN = len(arr)\n",
        "\n",
        "\tfor i in range(N//2 - 1, -1, -1):\n",
        "\t\theapify(arr, N, i)\n",
        "\n",
        "\tfor i in range(N-1, 0, -1):\n",
        "\t\tarr[i], arr[0] = arr[0], arr[i]\n",
        "\t\theapify(arr, i, 0)\n",
        "  \n",
        "def bucketSortIntHeap(arr):\n",
        "  maxEle = max(arr)\n",
        "  minEle = min(arr)\n",
        "\n",
        "  Range = (maxEle - minEle) / 10\n",
        "  aux = []\n",
        "  \n",
        "  for i in range(10):\n",
        "    aux.append([])\n",
        "  \n",
        "  for i in range(len(arr)):\n",
        "    diff = (arr[i] - minEle) / Range - int((arr[i] - minEle)/Range)\n",
        "    \n",
        "    if(diff == 0 and arr[i] != minEle):\n",
        "      aux[int((arr[i]-minEle)/Range)-1].append(arr[i])\n",
        "    else:\n",
        "      aux[int((arr[i]-minEle)/Range)].append(arr[i])\n",
        "  for i in range(len(aux)):\n",
        "    aux[i] = heapSort(aux[i])\n",
        "  \n",
        "  k = 0\n",
        "  for lst in aux:\n",
        "    if lst:\n",
        "      for i in lst:\n",
        "        arr[k] = i\n",
        "        k+=1"
      ],
      "metadata": {
        "id": "fRMs6J1b1Htp"
      },
      "execution_count": null,
      "outputs": []
    },
    {
      "cell_type": "code",
      "source": [
        "\n",
        "import matplotlib.pyplot as plt\n",
        "import datetime\n",
        "from timeit import repeat\n",
        "from copy import deepcopy\n",
        "import random\n",
        "\n",
        "x=[]\n",
        "y_insertion = []\n",
        "y_merge = []\n",
        "y_heap = []\n",
        "\n",
        "for n in range(5,2000):\n",
        "\n",
        "  a = random.sample(range(1, 2000), n)\n",
        "  b = deepcopy(a)\n",
        "  c = deepcopy(a)\n",
        "\n",
        "  t_insertion = repeat(setup=\"from __main__ import bucketSortInt\", stmt=f\"bucketSortInt({a})\", repeat=1, number=10)\n",
        "  t_merge = repeat(setup=\"from __main__ import bucketSortIntMerge\", stmt=f\"bucketSortIntMerge({b})\", repeat=1, number=10)\n",
        "  t_heap = repeat(setup=\"from __main__ import bucketSortIntHeap\", stmt=f\"bucketSortIntHeap({c})\", repeat=1, number=10)\n",
        "\n",
        "  x.append(n)\n",
        "  y_insertion.append(t_insertion)\n",
        "  y_merge.append(t_merge)\n",
        "  y_heap.append(t_heap)\n",
        "\n",
        "\n",
        "plt.plot(x,y_insertion)\n",
        "plt.plot(x,y_merge)\n",
        "plt.plot(x,y_heap)\n",
        "\n",
        "plt.legend([\"InsertionSort\", \"MergeSort\",\"HeapSort\"])\n",
        "\n",
        "plt.xlabel('n')\n",
        "plt.ylabel('Tiempo en ms')\n",
        "plt.show()"
      ],
      "metadata": {
        "colab": {
          "base_uri": "https://localhost:8080/",
          "height": 279
        },
        "id": "LxKv6b1WE-t8",
        "outputId": "9ec7ea8b-1343-495b-eb9f-7c2c1c3c9fd2"
      },
      "execution_count": null,
      "outputs": [
        {
          "output_type": "display_data",
          "data": {
            "text/plain": [
              "<Figure size 432x288 with 1 Axes>"
            ],
            "image/png": "[encoded data removed]"
          },
          "metadata": {
            "needs_background": "light"
          }
        }
      ]
    },
    {
      "cell_type": "markdown",
      "source": [
        "### Análisis de resultados\n",
        "\n",
        "Se puede apreciar que dependiendo del algortimo de ordenamiento cambia el tiempo de ejecucion de BucketSort.\n",
        "Tambien se ve que los que tienen menor tiempo de ejecucion son aquellos que individualmente tienen menor tiempo de ejecucion \n",
        "\n"
      ],
      "metadata": {
        "id": "0LpupLb_HnWS"
      }
    },
    {
      "cell_type": "markdown",
      "source": [
        "## 5.2. Tiempo de ejecución (experimental)\n",
        "\n",
        "En el siguiente gráfico se reporta el tiempo de ejecución del algoritmo **QuickSort** y **Merge sort** en función del tamaño del problema para arreglos generados aleatoriamente de tamaños entre $5$ y $500$, con el fin de comparar los tiempos de ejecucion y ver cual es mas eficiente en respecto del tiempo.\n",
        "\n"
      ],
      "metadata": {
        "id": "5AszHwkmJIfJ"
      }
    },
    {
      "cell_type": "code",
      "source": [
        "def countingSort(arr, exp1):\n",
        "\n",
        "\tn = len(arr)\n",
        "\n",
        "\toutput = [0] * (n)\n",
        "\n",
        "\tcount = [0] * (10)\n",
        "\n",
        "\tfor i in range(0, n):\n",
        "\t\tindex = arr[i] // exp1\n",
        "\t\tcount[index % 10] += 1\n",
        "\n",
        "\tfor i in range(1, 10):\n",
        "\t\tcount[i] += count[i - 1]\n",
        "\n",
        "\ti = n - 1\n",
        "\twhile i >= 0:\n",
        "\t\tindex = arr[i] // exp1\n",
        "\t\toutput[count[index % 10] - 1] = arr[i]\n",
        "\t\tcount[index % 10] -= 1\n",
        "\t\ti -= 1\n",
        "\n",
        "\ti = 0\n",
        "\tfor i in range(0, len(arr)):\n",
        "\t\tarr[i] = output[i]\n",
        "\n",
        "def radixSort(arr):\n",
        "\n",
        "\tmax1 = max(arr)\n",
        "\texp = 1\n",
        "\twhile max1 / exp >= 1:\n",
        "\t\tcountingSort(arr, exp)\n",
        "\t\texp *= 10"
      ],
      "metadata": {
        "id": "5E-WeYCAKBNK"
      },
      "execution_count": null,
      "outputs": []
    },
    {
      "cell_type": "code",
      "source": [
        "import matplotlib.pyplot as plt\n",
        "import datetime\n",
        "from timeit import repeat\n",
        "from copy import deepcopy\n",
        "import random\n",
        "\n",
        "x=[]\n",
        "y_bucketSort = []\n",
        "y_radixSort = []\n",
        "\n",
        "\n",
        "for n in range(5,2000):\n",
        "\n",
        "  a = random.sample(range(1, 2000), n)\n",
        "  b = deepcopy(a)\n",
        "\n",
        "\n",
        "  t_bucketSort = repeat(setup=\"from __main__ import bucketSortIntMerge\", stmt=f\"bucketSortIntMerge({a})\", repeat=1, number=10)\n",
        "  t_radixSort = repeat(setup=\"from __main__ import radixSort\", stmt=f\"radixSort({b})\", repeat=1, number=10)\n",
        "\n",
        "\n",
        "  x.append(n)\n",
        "  y_bucketSort.append(t_bucketSort)\n",
        "  y_radixSort.append(t_radixSort)\n",
        "\n",
        "\n",
        "plt.plot(x,y_bucketSort)\n",
        "plt.plot(x,y_radixSort)\n",
        "\n",
        "\n",
        "plt.legend([\"BucketSort\",\"RadixSort\"])\n",
        "\n",
        "plt.xlabel('n')\n",
        "plt.ylabel('Tiempo en ms')\n",
        "plt.show()"
      ],
      "metadata": {
        "colab": {
          "base_uri": "https://localhost:8080/",
          "height": 279
        },
        "id": "GSUWJCEC-ikH",
        "outputId": "5a5d6806-dac2-4cb9-aba3-0f3b8f907211"
      },
      "execution_count": null,
      "outputs": [
        {
          "output_type": "display_data",
          "data": {
            "text/plain": [
              "<Figure size 432x288 with 1 Axes>"
            ],
            "image/png": "[encoded data removed]"
          },
          "metadata": {
            "needs_background": "light"
          }
        }
      ]
    },
    {
      "cell_type": "markdown",
      "source": [
        "### Análisis de resultados\n",
        "\n",
        "Se puede ver que el radixsort y el bucketsort usando mergesort, se comportan ambas de formas lineal pero radixsort tiene un mejor rendimiento para arreglos de mayor tamaño."
      ],
      "metadata": {
        "id": "8lSmgt-vvpWB"
      }
    }
  ]
}