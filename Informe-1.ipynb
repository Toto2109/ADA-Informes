{
  "nbformat": 4,
  "nbformat_minor": 0,
  "metadata": {
    "colab": {
      "name": "Untitled3.ipynb",
      "provenance": [],
      "collapsed_sections": []
    },
    "kernelspec": {
      "name": "python3",
      "display_name": "Python 3"
    },
    "language_info": {
      "name": "python"
    }
  },
  "cells": [
    {
      "cell_type": "markdown",
      "source": [
        "# 1. Problema de ordenamiento\n",
        "\n",
        "**Entrada**: Secuencia de n números $[a_1,a_2,...,a_n]$\n",
        "\n",
        "**Salida**: Permutación ordenada de la secuencia de entrada: $[a_1',a_2',...,a_n']$, de tal manera que $a_1'\\leq a_2' \\leq... \\leq a_n'$.\n",
        "\n",
        "![image](https://chartreuse-goal-d5c.notion.site/image/https%3A%2F%2Fs3-us-west-2.amazonaws.com%2Fsecure.notion-static.com%2F036860e7-03f8-4cbb-89fa-24199116b4a4%2FUntitled.png?table=block&id=638b13a1-833b-46a5-896b-bf1346da1465&spaceId=4f8bebe4-a843-44d2-b6ee-51e2006a90d1&width=2000&userId=&cache=v2)\n",
        "\n",
        "InsertionSort es un algoritmo de ordenamiento simple, usulamente se compara con ordenar cartas de una baraja en la mano.El arreglo se separa en 2, por un lado la parte que esta ordenada y por el otro la que no.Los elementos del lado que no estan ordenados se van seleccionando y se agregan en la parte ordenada en la posicion que corresponde"
      ],
      "metadata": {
        "id": "jT2qsbCS3Fzu"
      }
    },
    {
      "cell_type": "markdown",
      "source": [
        "#2. InsertionSort\n",
        "\n",
        "El siguiente codio muestra una impletacion del codido *InsertionSort*"
      ],
      "metadata": {
        "id": "Bjw3qOZBWfCH"
      }
    },
    {
      "cell_type": "markdown",
      "source": [
        "##2.1 Codigo"
      ],
      "metadata": {
        "id": "XbUYBQR7WjaH"
      }
    },
    {
      "cell_type": "code",
      "source": [
        "import random\n",
        "from termcolor import colored\n",
        "import copy\n",
        "\n",
        "def insertionSort(arr, verbose=False):\n",
        "  n = len (arr)\n",
        "  c = 0 #contador de comporaciones\n",
        "  if verbose == True: print(\"input array:\",arr)\n",
        "\n",
        "  for i in range(1,n):\n",
        "    key = arr[i]\n",
        "    j = i-1\n",
        "    if verbose == True: print(\"\\nPasada\",i)\n",
        "    while j >= 0 and key < arr[j] : #Mientras que elemento sea menor que con se compara ira avanza hacia la izquierda hasta llegar a la posicion correcta\n",
        "                                    #o que elemento sea el primero (ultimo con el que comparar)\n",
        "      arr[j + 1] = arr[j]\n",
        "      if verbose == True :\n",
        "        if(len(str(arr[:j])[1:-1]) == 0):\n",
        "          print(colored(f\"{str(arr[j:j+1])[1:-1]}\",\"blue\"),\",\",colored(f\"{str(key)}\",\"blue\"),\",\",str(arr[j+2:])[1:-1])\n",
        "        else:\n",
        "          print(str(arr[:j])[1:-1],\",\",colored(f\"{str(arr[j:j+1])[1:-1]}\",\"blue\"),\",\",colored(f\"{str(key)}\",\"blue\"),\",\",str(arr[j+2:])[1:-1])\n",
        "      j -= 1\n",
        "      c+=1\n",
        "\n",
        "    arr[j + 1] = key\n",
        "    if verbose == True :\n",
        "      print(\"\\nAl finalizar pasada:\")\n",
        "      if(len(str(arr[:j+1])[1:-1]) == 0):\n",
        "        print(colored(f\"{str(arr[j+1:j+2])[1:-1]}\",\"red\"),\",\",str(arr[j+2:])[1:-1])\n",
        "      else:\n",
        "        print(str(arr[:j+1])[1:-1],\",\",colored(f\"{str(arr[j+1:j+2])[1:-1]}\",\"red\"),\",\",str(arr[j+2:])[1:-1])\n",
        "\n",
        "  if verbose == True: print(\"is sorted!\\noutpur array:\",arr)\n",
        "  return arr,c\n",
        "\n",
        "A = [5,2,4,6,1,3]\n",
        "print(\"Entrada: \",A)\n",
        "A, c= insertionSort(A)\n",
        "print(\"Salida: \",A)\n",
        "print(\"# comparaciones \",c)"
      ],
      "metadata": {
        "colab": {
          "base_uri": "https://localhost:8080/"
        },
        "id": "KrrmRA2LcUTN",
        "outputId": "14f5afed-57f7-473b-d0ec-02b2ef25b528"
      },
      "execution_count": 2,
      "outputs": [
        {
          "output_type": "stream",
          "name": "stdout",
          "text": [
            "Entrada:  [5, 2, 4, 6, 1, 3]\n",
            "Salida:  [1, 2, 3, 4, 5, 6]\n",
            "# comparaciones  9\n"
          ]
        }
      ]
    },
    {
      "cell_type": "markdown",
      "source": [
        "## 2.2. Descripción del algoritmo\n",
        "\n",
        "El algoritmo recibe como entrada una lista (o arreglo) $a$ con la secuencia de $n$ elementos que queremos ordenar. Luego, los números se ordenan dentro de la misma lista.\n",
        "\n",
        "1. Para cada iteracion $i$ se le asigna a $key$ el valor $arr[i$].\n",
        "\n",
        "2. En cada iteracion $j$ el se recorre la seccion desornanda del algoritmo comparandolo con $key$, el valor de $key$ se ira moviendo en el arreglo mientras sea mayor al valor $arr[j]$.\n",
        "\n",
        "3. Al final de todas las iteraciones se retorna el arreglo ordenado y cuantas compariones realizo.\n",
        "\n",
        "Cuando la variable `verbose` es `True` se muestra información para ver lo que pasa paso a paso dentro de la función."
      ],
      "metadata": {
        "id": "XHIw15F97CnZ"
      }
    },
    {
      "cell_type": "markdown",
      "source": [
        "## 2.3. Ejemplo\n",
        "\n",
        "Consideremos, por ejemplo, el arreglo:\n",
        "\n",
        "$a=[5,2,4,6,1,3]$\n",
        "\n",
        "En la primera pasada intercambiamos el 2 por el 5:\n",
        "\n",
        "$a=[2,5,4,6,1,3]$\n",
        "\n",
        "Luego, en la segunda pasada el 5 se intercambia con el 4:\n",
        "\n",
        "$a=[2,4,5,6,1,3]$\n",
        "\n",
        "En la tercera pasada el 5 con el 6, como ya estan ordenados no hay intercambios:\n",
        "\n",
        "$a=[2,4,5,6,1,3]$\n",
        "\n",
        "Despues en la cuerta pasada, se compara el 6 con el 1 y el uno se intercambia hasta llegar a la posicion que le corresponde\n",
        "\n",
        "$a=[1,2,4,5,6,3]$\n",
        "\n",
        "Y finalmente se compora el 6 con el 3 y se intercambia hasta donde corresponde\n",
        "\n",
        "$a=[1,2,3,4,5,6]$\n",
        "\n",
        "\n",
        "Y ya tenemos el arreglo ordenado."
      ],
      "metadata": {
        "id": "o0BhPA6mio_M"
      }
    },
    {
      "cell_type": "markdown",
      "source": [
        "## 2.4. Ejecución del algoritmo paso a paso (`verbose=True`)\n",
        "\n",
        "Usando la opción `verbose=True`, podemos ver lo que ocurre en cada iteración del algoritmo."
      ],
      "metadata": {
        "id": "5TZnpkE0dgta"
      }
    },
    {
      "cell_type": "code",
      "source": [
        "import random\n",
        "a = random.sample(range(1, 100), 6)\n",
        "a,c= insertionSort(a,verbose=True)"
      ],
      "metadata": {
        "colab": {
          "base_uri": "https://localhost:8080/"
        },
        "id": "H_93UBKv8VQl",
        "outputId": "54e6c669-2bef-4d2a-8703-1ac354851390"
      },
      "execution_count": 3,
      "outputs": [
        {
          "output_type": "stream",
          "name": "stdout",
          "text": [
            "input array: [12, 1, 8, 36, 14, 68]\n",
            "\n",
            "Pasada 1\n",
            "\u001b[34m12\u001b[0m , \u001b[34m1\u001b[0m , 8, 36, 14, 68\n",
            "\n",
            "Al finalizar pasada:\n",
            "\u001b[31m1\u001b[0m , 12, 8, 36, 14, 68\n",
            "\n",
            "Pasada 2\n",
            "1 , \u001b[34m12\u001b[0m , \u001b[34m8\u001b[0m , 36, 14, 68\n",
            "\n",
            "Al finalizar pasada:\n",
            "1 , \u001b[31m8\u001b[0m , 12, 36, 14, 68\n",
            "\n",
            "Pasada 3\n",
            "\n",
            "Al finalizar pasada:\n",
            "1, 8, 12 , \u001b[31m36\u001b[0m , 14, 68\n",
            "\n",
            "Pasada 4\n",
            "1, 8, 12 , \u001b[34m36\u001b[0m , \u001b[34m14\u001b[0m , 68\n",
            "\n",
            "Al finalizar pasada:\n",
            "1, 8, 12 , \u001b[31m14\u001b[0m , 36, 68\n",
            "\n",
            "Pasada 5\n",
            "\n",
            "Al finalizar pasada:\n",
            "1, 8, 12, 14, 36 , \u001b[31m68\u001b[0m , \n",
            "is sorted!\n",
            "outpur array: [1, 8, 12, 14, 36, 68]\n"
          ]
        }
      ]
    },
    {
      "cell_type": "markdown",
      "source": [
        "En cada iteracion (pasada) se recorre y elemento $arr[i]$ es menor que $arr[j]$ se intercambian\n",
        "estos son elementos de color azul\n",
        "\n",
        "Al finalizar la pasada el elemento de color rojo es elemento que se encuentra ya ordenado en su posicion"
      ],
      "metadata": {
        "id": "l8s1IEJtrvXH"
      }
    },
    {
      "cell_type": "markdown",
      "source": [
        "# 3. Tiempo de ejecución\n",
        "\n",
        "### **Teorema (Tiempo de ejecución).**\n",
        "\n",
        "*El algoritmo **InsertionSort** tiene un **tiempo de ejecución de** $O(n^2)$ en el peor caso.*\n",
        "\n",
        "## Prueba del teorema\n",
        "\n",
        "Observando el código, podemos apreciar que el **peor caso** ocurre cuando los elementos del arreglo se encuentran en la posicion **opuesta**\n",
        "El numero de comparaciones realizado para el elemento **n** es igual a **n-1** "
      ],
      "metadata": {
        "id": "NmzbekC-4NNC"
      }
    },
    {
      "cell_type": "markdown",
      "source": [
        "### Ejemplo\n"
      ],
      "metadata": {
        "id": "BCnalE3wWxRu"
      }
    },
    {
      "cell_type": "code",
      "source": [
        "a =[4,3,2,1];\n",
        "print(\"Entrada no ordenada:\",a)\n",
        "a,counter=insertionSort(a,False)\n",
        "print(\"Salida ordenada:\",a)\n",
        "print(\"Total de comparaciones realizadas:\",counter)"
      ],
      "metadata": {
        "colab": {
          "base_uri": "https://localhost:8080/"
        },
        "id": "2GYkC9QVWw83",
        "outputId": "7ac3af28-600c-4e6b-84a9-52c7ae686878"
      },
      "execution_count": 4,
      "outputs": [
        {
          "output_type": "stream",
          "name": "stdout",
          "text": [
            "Entrada no ordenada: [4, 3, 2, 1]\n",
            "Salida ordenada: [1, 2, 3, 4]\n",
            "Total de comparaciones realizadas: 6\n"
          ]
        }
      ]
    },
    {
      "cell_type": "markdown",
      "source": [
        "En este caso, la primera pasada hizo 3 comparaciones, la segunda 2 y la tercera 1. Total: 6.\n",
        "\n",
        "En el caso general, se deberían realizar $\\sum\\limits_{i=0}^{n-1} i=\\frac{n(n-1)}{2}$ comparaciones. Por lo que el **tiempo de ejecución del algoritmo en el peor caso** es $O(n^2)$."
      ],
      "metadata": {
        "id": "2HQH2ltkBUbq"
      }
    },
    {
      "cell_type": "markdown",
      "source": [
        "# 4. Correctitud\n",
        "\n",
        "### **Teorema (Correctitud).**\n",
        "\n",
        "*El algoritmo **InsertionSort** genera un arreglo: $[a_1',a_2',...,a_n']$, con los mismos elementos del arreglo de entrada ordenados de menor a mayor, es decir,* $a_1'\\leq a_2' \\leq... \\leq a_n'$.\n",
        "\n",
        "\n",
        "## Prueba del Teorema\n",
        "\n",
        "Previamente observamos que en cada iteración de insertionSort movemos el elemento a la posicion en la izquierda (seccion ordenada del arreglo) segun corresponda\n",
        "\n",
        "Por lo que probaremos la siguiente **propiedad invariante de bucle** para el `InsertionSort`:\n",
        "\n",
        "> Al comienzo de cada iteración $i$ del bucle más grande,el subarreglo $a[0..i-1]$ contiene los elementos que el arreglo original, pero ordenados de menor a mayor.Mientras que el resto del arreglo: $a[i,..,n-1]$ corresponde a los elementos que todavia no son ordenados.\n",
        "\n",
        "**Inicialización**\n",
        "\n",
        "Al comienzo de la primera iteración (i=1), el subarreglo $a[0,i-1]$ corresponde al primer elemento, por lo tanto se encuentra ordenado trivialmente.\n",
        "\n",
        "**Mantención**\n",
        "\n",
        "Para la iteracion *i-esima* asumimos que que el subarreglo $a[0..i-1]$ se encuentra ordenado. \n",
        "\n",
        "Durante la iteracion $i$ movemos el elemento que se encuentra en la posicion $i$ hasta su posicion correcta.Despues de esta iteracion los elementos $a[0,i-1]$ se encuentran ordenados porque al agregar el $i-esimo$ termino llega en su posicion ordenada\n",
        "\n",
        "Considerando el numero 4 como el $i-esimo$ termino\n",
        "\n",
        "![image](https://i.imgur.com/2Uq0G3J.png)\n",
        "\n",
        "Durante la iteracion se compara con el termino en la posicion $j$ (que al incio de la iteracion $i$ tiene un valor $i-1$)\n",
        "\n",
        "Y al ser menor se intercambia con este valor, en este caso se intercambia el 4 con el 5 \n",
        "\n",
        "![image](https://i.imgur.com/fS4jqLh.png)\n",
        "\n",
        "\n",
        "Al finalizar la iteración (y al comienzo de la siguiente), se seguirá cumpliendo la **propiedad invariante**.Es decir que el subarreglo $a[0..i-1]$ se encuentra ordenado\n",
        "\n",
        "![image](https://i.imgur.com/YeumQ2O.png)\n",
        "\n",
        "\n",
        "**Correctitud**\n",
        "\n",
        "Finalmente, como la propiedad de bucle invariante es verdadera al incio del bucle y se mantiene en cada iteración, podemos decir que al **finalizar la n-ésima iteración del algoritmo**, se que genera un arreglo $[a_1',a_2',...,a_n']$, con los mismos elementos del arreglo de entrada ordenados de menor a mayor.\n"
      ],
      "metadata": {
        "id": "-ifxrrqlC4Hc"
      }
    },
    {
      "cell_type": "markdown",
      "source": [
        "# 5. Experimentos\n",
        "\n",
        "## 5.1. Número de comparaciones\n",
        "\n",
        "A continuación se muestra gráficamente una comparación entre:\n",
        "\n",
        "* cantidad de comparaciones del peor caso calculadas matemáticamente,\n",
        "* cantidad de comparaciones del mejor caso calculadas matemáticamente\n",
        "* cantidad de comparaciones realizadas experimentalmente para entradas aleatorias\n",
        "\n",
        "para tamaños de problemas con $n \\in [5,19]$.\n",
        "\n",
        "Los arreglos de entrada son generados aleatoriamente haciendo un sampling de un conjunto de números entre 1 y 100."
      ],
      "metadata": {
        "id": "2hYUM_9OHF38"
      }
    },
    {
      "cell_type": "code",
      "source": [
        "import matplotlib.pyplot as plt\n",
        "\n",
        "x=[n for n in range(5,20)] \n",
        "y1=[((n**2)-n)/2 for n in range(5,20)] # worst case\n",
        "y2=[n for n in range(5,20)] # best case\n",
        "y=[]; \n",
        "\n",
        "for n in range(5,20):\n",
        "  a = random.sample(range(1, 100), n)\n",
        "  a,counter = insertionSort(a)\n",
        "  y.append(counter)\n",
        "\n",
        "plt.plot(x,y)\n",
        "plt.plot(x,y1)\n",
        "plt.plot(x,y2)\n",
        "plt.legend([\"Insertion Sort\", \"theoretical peor case\", \"theoretical best case\"])\n",
        "\n",
        "plt.xlabel('n')\n",
        "plt.ylabel('number of operations')\n",
        "plt.show()"
      ],
      "metadata": {
        "colab": {
          "base_uri": "https://localhost:8080/",
          "height": 279
        },
        "id": "LxKv6b1WE-t8",
        "outputId": "b84e1fda-64d1-4512-8d4e-4a312c43e314"
      },
      "execution_count": 5,
      "outputs": [
        {
          "output_type": "display_data",
          "data": {
            "text/plain": [
              "<Figure size 432x288 with 1 Axes>"
            ],
            "image/png": "[encoded data removed]"
          },
          "metadata": {
            "needs_background": "light"
          }
        }
      ]
    },
    {
      "cell_type": "markdown",
      "source": [
        "### Análisis de resultados\n",
        "\n",
        "Se puede apreciar que el caso **exprimental** para pocos elementos a ordenar se encuentra entre dentro del **peor** y el **mejor** caso sin distanciarce mucho de los limite que estas graficas generan. Pero a medida que aumentan los casos cada vez la grafica **exprimental** se aleja del **peor** y el **mejor** caso."
      ],
      "metadata": {
        "id": "0LpupLb_HnWS"
      }
    },
    {
      "cell_type": "markdown",
      "source": [
        "## 5.2. Tiempo de ejecución (experimental)\n",
        "\n",
        "En el siguiente gráfico se reporta el tiempo de ejecución del algoritmo **InsertionSort** y **BubbleSort** en función del tamaño del problema para arreglos generados aleatoriamente de tamaños entre $5$ y $500$, con el fin de comparar los tiempos de ejecucion y ver cual es mas eficiente en respecto del tiempo.\n",
        "\n"
      ],
      "metadata": {
        "id": "5AszHwkmJIfJ"
      }
    },
    {
      "cell_type": "markdown",
      "source": [
        "### Codigo del BubbleSort"
      ],
      "metadata": {
        "id": "fnOSZIevLocB"
      }
    },
    {
      "cell_type": "code",
      "source": [
        "def BubbleSort(a, verbose=False):\n",
        "    n = len(a)\n",
        "    T = 0\n",
        "    for i in range(1,n+1):\n",
        "        already_sorted = True\n",
        "        for j in range(n - i):\n",
        "            T +=1\n",
        "            if a[j] > a[j + 1]:\n",
        "                a[j], a[j + 1] = a[j + 1], a[j]\n",
        "                already_sorted = False\n",
        "        if already_sorted:\n",
        "            break\n",
        "    return a, T"
      ],
      "metadata": {
        "id": "5E-WeYCAKBNK"
      },
      "execution_count": 6,
      "outputs": []
    },
    {
      "cell_type": "code",
      "source": [
        "import matplotlib.pyplot as plt\n",
        "import datetime\n",
        "from timeit import repeat\n",
        "\n",
        "x=[]; y=[] ; y2=[]\n",
        "\n",
        "for n in range(5,500):\n",
        "\n",
        "  a = random.sample(range(1, 1000), n)\n",
        "  b = a\n",
        "\n",
        "  #la función repeat está ejecutando 20 veces insertionSort y bubbleSort con el arreglo a y retorna el mejor tiepo obtenido.\n",
        "  t = repeat(setup=\"from __main__ import insertionSort\", stmt=f\"insertionSort({a})\", repeat=1, number=10)\n",
        "  t2 = repeat(setup=\"from __main__ import BubbleSort\", stmt=f\"BubbleSort({b})\", repeat=1, number=10)\n",
        "\n",
        "  x.append(n)\n",
        "  y.append(t)\n",
        "  y2.append(t2)\n",
        "\n",
        "\n",
        "plt.plot(x,y)\n",
        "plt.plot(x,y2)\n",
        "plt.legend([\"BubbleSort\"])\n",
        "plt.legend([\"Insertion Sort\", \"Bubble Sort\"])\n",
        "\n",
        "plt.xlabel('n')\n",
        "plt.ylabel('time in ms')\n",
        "plt.show()"
      ],
      "metadata": {
        "colab": {
          "base_uri": "https://localhost:8080/",
          "height": 281
        },
        "id": "Ffz2Id4WJPsO",
        "outputId": "98d6d19c-cc11-414b-b938-b67823f0bfc4"
      },
      "execution_count": 7,
      "outputs": [
        {
          "output_type": "display_data",
          "data": {
            "text/plain": [
              "<Figure size 432x288 with 1 Axes>"
            ],
            "image/png": "[encoded data removed]"
          },
          "metadata": {
            "needs_background": "light"
          }
        }
      ]
    },
    {
      "cell_type": "markdown",
      "source": [
        "### Análisis de resultados\n",
        "\n",
        "Con este grafico se puede comprobar que el analis teorico era correcto, ya que el tiempo de ejecucion exprimental forma una grafica de manera cuadratica en funcion del tamaño del problema.\n",
        "\n",
        "Tambien se puede ver que si bien las ambas graficas son de forma exponencial, a mediada que la cantidad de datos aumenta el algoritmo **insertionSort** le toma menos tiempo ordenarlos que el algortimo **bubbleSort**.Demostrando que **insertionSort** es mas eficiente que **bubbleSort** \n",
        "\n",
        "Los peaks del tiempo que estan presentes se deben problamante al comportamiento de procesadores"
      ],
      "metadata": {
        "id": "8lSmgt-vvpWB"
      }
    }
  ]
}