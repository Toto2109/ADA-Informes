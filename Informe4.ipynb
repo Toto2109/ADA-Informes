{
  "nbformat": 4,
  "nbformat_minor": 0,
  "metadata": {
    "colab": {
      "provenance": [],
      "collapsed_sections": []
    },
    "kernelspec": {
      "name": "python3",
      "display_name": "Python 3"
    },
    "language_info": {
      "name": "python"
    }
  },
  "cells": [
    {
      "cell_type": "markdown",
      "source": [
        "# 1. Problema de Ordenamiento\n",
        "\n",
        "**Entrada**: Secuencia de n números $[a_1,a_2,...,a_n]$\n",
        "\n",
        "**Salida**: Misma secuencia de n numeros pero ordenada $[a_1',a_2',...,a_n']$\n",
        "\n",
        "Este algoritmo usa el paradigma divide y venceras para poder ordenar un arreglo desordenado y retorar este mismo ya ordenado"
      ],
      "metadata": {
        "id": "jT2qsbCS3Fzu"
      }
    },
    {
      "cell_type": "markdown",
      "source": [
        "#2. Quick Sort\n",
        "\n",
        "El siguiente codio muestra una impletacion del codido *Quicksort*"
      ],
      "metadata": {
        "id": "Bjw3qOZBWfCH"
      }
    },
    {
      "cell_type": "markdown",
      "source": [
        "##2.1 Codigo"
      ],
      "metadata": {
        "id": "XbUYBQR7WjaH"
      }
    },
    {
      "cell_type": "code",
      "source": [
        "import random\n",
        "from termcolor import colored\n",
        "import copy\n",
        "\n",
        "##pivote final\n",
        "def particion(arr, low, high, cont, verbose = False):\n",
        "  pivote = arr[high]\n",
        "  left = low\n",
        "\n",
        "  for i in range(low, high):\n",
        "    cont[0] += 1\n",
        "    if(arr[i] <= pivote): \n",
        "      arr[left], arr[i] = arr[i], arr[left]\n",
        "      left += 1\n",
        "      cont[0] += 1\n",
        "  cont[0] += 1\n",
        "  arr[left], arr[high] = arr[high], arr[left]\n",
        "  return left\n",
        "\n",
        "\n",
        "def quickSort(arr, low, high, cont,verbose = False):\n",
        "  if(low < high):\n",
        "    pivote = particion(arr, low, high, cont)\n",
        "    quickSort(arr, low, pivote-1, cont)\n",
        "    quickSort(arr, pivote+1, high, cont)\n",
        "\n",
        "\n",
        "##pivote inicial\n",
        "\n",
        "def partitionIni(arr, low, high, cont ):\n",
        "  pivote = arr[low]\n",
        "  left = low + 1\n",
        "  right = high\n",
        "  while left < right:\n",
        "    while left <= right and arr[right] >= pivote:\n",
        "        right = right - 1\n",
        "    while left <= right and arr[left] <= pivote:\n",
        "        left = left + 1\n",
        "    cont[0] += 1\n",
        "    if left <= right:\n",
        "        arr[left], arr[right] = arr[right], arr[left]\n",
        "    else:\n",
        "        break\n",
        "  arr[low], arr[right] = arr[right], arr[low]\n",
        "  return right\n",
        "\n",
        "\n",
        "def quicksortInit(arr,low, high, cont):\n",
        "    if low < high:\n",
        "      pivote = partitionIni(arr, low, high, cont)\n",
        "      quicksortInit(arr, low, pivote-1, cont)\n",
        "      quicksortInit(arr, pivote+1, high, cont)\n",
        "\n",
        "\n",
        "\n",
        "a = [2,8,7,1,3,5,6,4]\n",
        "cont = [0]\n",
        "\n",
        "print(\"Arreglo de entrada :\", a)\n",
        "\n",
        "quickSort(a, 0, len(a)-1, cont)\n",
        "\n",
        "print(\"Arreglo de Salida :\", a)\n"
      ],
      "metadata": {
        "colab": {
          "base_uri": "https://localhost:8080/"
        },
        "id": "jzXA1NxV_A5p",
        "outputId": "0f888019-755d-4420-d608-c27f6919cfde"
      },
      "execution_count": 34,
      "outputs": [
        {
          "output_type": "stream",
          "name": "stdout",
          "text": [
            "Arreglo de entrada : [2, 8, 7, 1, 3, 5, 6, 4]\n",
            "Arreglo de Salida : [1, 2, 3, 4, 5, 6, 7, 8]\n"
          ]
        }
      ]
    },
    {
      "cell_type": "markdown",
      "source": [
        "## 2.2. Descripción del algoritmo\n",
        "\n",
        "El algoritmo recibe como entrada una lista (o arreglo) $a$ con la secuencia de $n$ elementos que queremos ordenar. Este algoritmo usa el paradigna divide y venceras para separar el arreglo y ir ordenando, este orden se logra gracias a la funcion *partition* la cual a traves de un pivote lo ordena.\n",
        "\n",
        "1. Se divide el arreglo en 2 sub-arreglos: A[i..j-1] y A[j+1..n] los elementos del primer sub arreglo son menores o iguales a p(pivote) y el otro sub arreglo son mayores o iguales.\n",
        "\n",
        "2. Su usa la funcion Quicksort para ordenar los sub arreglos.\n",
        "\n",
        "3. Se encuentran ordenados los sub arreglos\n",
        "\n",
        "Cuando la variable `verbose` es `True` se muestra información para ver lo que pasa paso a paso dentro de la función."
      ],
      "metadata": {
        "id": "XHIw15F97CnZ"
      }
    },
    {
      "cell_type": "markdown",
      "source": [
        "## 2.3. Ejemplo\n",
        "\n",
        "Consideremos, por ejemplo, el arreglo:\n",
        "\n",
        "$a=[5,2,4,6,1,3]$\n",
        "\n",
        "En la primera comparacion el pivot 3 es menor que 5 por lo que no se realizan cambios:\n",
        "\n",
        "$a=[*5*,2,4,6,1,3]$\n",
        "\n",
        "Para la siguiente iteracion como el pivote es mayor que 2, se intercambian las posiciones:\n",
        "\n",
        "$a=[2,*5*,4,6,1,3]$\n",
        "\n",
        "Como el pivote es menor que el siguiente numero, no se realizan cambios:\n",
        "\n",
        "$a=[2,*5,4*,6,1,3]$\n",
        "\n",
        "Como el siguente numero sigue siendo menor, tambien se mantiene\n",
        "\n",
        "$a=[2,*5,4,6*,1,3]$\n",
        "\n",
        "Y finalmente se compora el pivote con el penultimo numero:\n",
        "\n",
        "$a=[2,1,*5,4,6*,3]$\n",
        "\n",
        "Y el pivote toma la posicion central:\n",
        "$a=[2,1,3,*5,4,6*]$"
      ],
      "metadata": {
        "id": "o0BhPA6mio_M"
      }
    },
    {
      "cell_type": "markdown",
      "source": [
        "## 2.4. Ejecución del algoritmo paso a paso (`verbose=True`)\n",
        "\n",
        "Usando la opción `verbose=True`, podemos ver lo que ocurre en cada iteración del algoritmo."
      ],
      "metadata": {
        "id": "5TZnpkE0dgta"
      }
    },
    {
      "cell_type": "code",
      "source": [
        "import random\n",
        "a = random.sample(range(1, 100), 6)\n",
        "print(\"Arreglo de entrada :\", a)\n",
        "cont = [0]\n",
        "quickSort(a, 0, len(a)-1, cont)\n",
        "print(\"Arreglo de Salida :\", a)"
      ],
      "metadata": {
        "colab": {
          "base_uri": "https://localhost:8080/"
        },
        "id": "H_93UBKv8VQl",
        "outputId": "75eebb22-851a-49bf-eb39-92037cd5aabf"
      },
      "execution_count": 4,
      "outputs": [
        {
          "output_type": "stream",
          "name": "stdout",
          "text": [
            "Arreglo de entrada : [68, 3, 11, 22, 45, 23]\n",
            "Arreglo de Salida : [3, 11, 22, 23, 45, 68]\n"
          ]
        }
      ]
    },
    {
      "cell_type": "markdown",
      "source": [
        "# 3. Tiempo de ejecución\n",
        "\n",
        "### **Teorema (Tiempo de ejecución).**\n",
        "\n",
        "*El algoritmo **Quicksort** tiene un **tiempo de ejecución** de $O(n^2)$ para el peor caso y para un caso promedio $O(Nlog(n)).*\n",
        "\n",
        "## Prueba del teorema\n",
        "\n",
        "Observando el código, podemos apreciar que el **peor caso** ocurre cuando los elementos del arreglo se encuentran en la posicion **opuesta**\n",
        "El numero de comparaciones realizado para el elemento **n** es igual a **n-1** "
      ],
      "metadata": {
        "id": "NmzbekC-4NNC"
      }
    },
    {
      "cell_type": "markdown",
      "source": [
        "# 4. Correctitud\n",
        "\n",
        "### **Teorema 1**\n",
        "\n",
        "> El algoritmo Partition retorna un recibe un arreglo A[p..r], lo reorganiza y retorna un índice q de tal forma que los elementos del arreglo A[p..q-1] son menores o iguales a A[q] y los elementos del arreglo A[q+1..r] son mayores a A[q].\n",
        "\n",
        "## Prueba del Teorema\n",
        "\n",
        "Para probar comprar esto se tiene que cumplir que antes de cada iteracion se cumple que para un indice k:\n",
        "\n",
        "Si p≤k≤i, entonces A[k]≤A[r]\n",
        "\n",
        "Si i<k<j, entonces A[k]>A[r]\n",
        "\n",
        "Para comprobar este teorema se usara la *propiedad invariante de bucle*\n",
        "\n",
        "**Inicialización**\n",
        "\n",
        "Al comienzo de la primera iteración como no existen elementos entre p e i y tampco entre i+1 y j-1, asi que por lo tanto se mantiene la propiedad invariante de bucle para el inicio.\n",
        "\n",
        "**Mantención**\n",
        "\n",
        "Luego para cada iteracion siguiente pueden ocurrir 2 casos, el primero que A[j]≤ A[r] entonces se lleva a cabo el intercambio, por lo tanto se sigue cumpliendo la propiedad\n",
        "Para el siguente caso cuando A[j] > A[r] como no se realiza ningun cambio, tambien se sigue manteniendo la propiedad\n",
        "\n",
        "### **Teorema 2**\n",
        "\n",
        "Para probar la correctitud del algoritmos *quicksort* vamos a utilizar el metodo de induccion, esto para comprobar que para n elementos, la funcion recibe el arreglo y lo retorna de manera ordenada.\n",
        "\n",
        "**Caso base**\n",
        "\n",
        "Para n = 1, como existe solo un elementos el arreglo se encuntra trivialmente ordenado, por lo tanto se cumple para el caso base.\n",
        "\n",
        "**Paso inductivo**\n",
        "\n",
        "Para n elementos el algoritmos dividara el arreglo en 2, este proceso se realizara de manera recursiva hasta llegar a que el tamaños del arreglo sea n = 1, como este es el caso base el cual se cumple, el paso inductiva tambien.\n"
      ],
      "metadata": {
        "id": "-ifxrrqlC4Hc"
      }
    },
    {
      "cell_type": "markdown",
      "source": [
        "# 5. Experimentos\n",
        "\n",
        "## 5.1. Número de comparaciones\n",
        "\n",
        "A continuación se muestra gráficamente una comparación entre:\n",
        "\n",
        "* Número de comparaciones realizadas experimentalmente con el mejor y peor caso teóricos.\n",
        "* Algoritmo QuickSort v/scon MergeSort.\n",
        "* Comparaciones con diferentes pivotes\n",
        "\n",
        "para tamaños de problemas con $n \\in [5,19]$.\n",
        "\n",
        "A continuacion se muestra un gráfico en el cual se realizaron las siguientes comparaciones.\n"
      ],
      "metadata": {
        "id": "2hYUM_9OHF38"
      }
    },
    {
      "cell_type": "code",
      "source": [
        "import matplotlib.pyplot as plt \n",
        "from math import log2\n",
        "import random\n",
        "\n",
        "\n",
        "x=[n for n in range(5,20)] \n",
        "y1=[n**2 for n in range(5,20)] #worst case\n",
        "y2=[n*log2(n) for n in range(5,20)] #best case\n",
        "y=[]; \n",
        "\n",
        "for n in range(5,20):\n",
        "  cont = [0]\n",
        "  arr = random.sample(range(1, 100), n)\n",
        "  quickSort(arr,0, len(arr)-1,cont)\n",
        "  y.append(cont[0])\n",
        "\n",
        "plt.plot(x,y)\n",
        "plt.plot(x,y1)\n",
        "plt.plot(x,y2)\n",
        "\n",
        "\n",
        "plt.legend([\"QuickSort\", \"theoretical peor case\", \"theoretical best case\"])\n",
        "\n",
        "plt.xlabel('n')\n",
        "plt.ylabel('number of operations')\n",
        "plt.show()"
      ],
      "metadata": {
        "colab": {
          "base_uri": "https://localhost:8080/",
          "height": 279
        },
        "id": "LxKv6b1WE-t8",
        "outputId": "a1ffafb5-cc5d-4817-ad6d-077600c271c1"
      },
      "execution_count": 35,
      "outputs": [
        {
          "output_type": "display_data",
          "data": {
            "text/plain": [
              "<Figure size 432x288 with 1 Axes>"
            ],
            "image/png": "[encoded data removed]"
          },
          "metadata": {
            "needs_background": "light"
          }
        }
      ]
    },
    {
      "cell_type": "markdown",
      "source": [
        "### Análisis de resultados\n",
        "\n",
        "Se puede apreciar que el caso **exprimental** se encuentre entre la grafica del mejor caso la cual tiene forma lineal y la grafica del peor caso de forma cuadratica\n",
        "\n"
      ],
      "metadata": {
        "id": "0LpupLb_HnWS"
      }
    },
    {
      "cell_type": "markdown",
      "source": [
        "## 5.2. Tiempo de ejecución (experimental)\n",
        "\n",
        "En el siguiente gráfico se reporta el tiempo de ejecución del algoritmo **QuickSort** y **Merge sort** en función del tamaño del problema para arreglos generados aleatoriamente de tamaños entre $5$ y $500$, con el fin de comparar los tiempos de ejecucion y ver cual es mas eficiente en respecto del tiempo.\n",
        "\n"
      ],
      "metadata": {
        "id": "5AszHwkmJIfJ"
      }
    },
    {
      "cell_type": "markdown",
      "source": [
        "### Codigo de mergesort\n"
      ],
      "metadata": {
        "id": "fnOSZIevLocB"
      }
    },
    {
      "cell_type": "code",
      "source": [
        "def merge(low, right):\n",
        "    \n",
        "  i, j = 0, 0 \n",
        "  result = []\n",
        "  while(i < len(low) and j < len(right)):\n",
        "    if (low[i] < right[j]):\n",
        "      result.append(low[i])\n",
        "      i += 1\n",
        "    else:\n",
        "      result.append(right[j])\n",
        "      j += 1\n",
        "  result += low[i:]\n",
        "  result += right[j:]\n",
        "\n",
        "\n",
        "  return result\n",
        "\n",
        "def mergeSort(arr):\n",
        "    \n",
        "    if len(arr) > 1:\n",
        "        mid = len(arr)//2\n",
        "        left= (arr[:mid])\n",
        "        right=(arr[mid:])\n",
        " \n",
        "        mergeSort(left)\n",
        "        mergeSort(right )\n",
        "        arr[:]=merge(left,right)"
      ],
      "metadata": {
        "id": "5E-WeYCAKBNK"
      },
      "execution_count": 37,
      "outputs": []
    },
    {
      "cell_type": "code",
      "source": [
        "import matplotlib.pyplot as plt\n",
        "import datetime\n",
        "from timeit import repeat\n",
        "import random\n",
        "from termcolor import colored\n",
        "import copy\n",
        "\n",
        "\n",
        "x=[]; y=[]\n",
        "y1=[]\n",
        "\n",
        "for n in range(5,500):\n",
        "\n",
        "  a = random.sample(range(1, 1000), n)\n",
        "  size = len(a)\n",
        "\n",
        "  t1 = repeat(setup=\"from __main__ import mergeSort\", stmt=f\"mergeSort({a})\", repeat=1, number=10)\n",
        "  t2 = repeat(setup=\"from __main__ import quickSort\", stmt=f\"quickSort({a},{0},{len(a)-1},{[0]})\", repeat=1, number=10)\n",
        "  x.append(n)\n",
        "  y.append(t1)\n",
        "  y1.append(t2)\n",
        "\n",
        "\n",
        "plt.plot(x, y)\n",
        "plt.plot(x, y1)\n",
        "plt.legend([\"mergesort \", \"quickSort\"])\n",
        "\n",
        "plt.xlabel('Tamaño del arreglo')\n",
        "plt.ylabel('Tiempo en ms')\n",
        "plt.show()"
      ],
      "metadata": {
        "colab": {
          "base_uri": "https://localhost:8080/",
          "height": 279
        },
        "id": "Ffz2Id4WJPsO",
        "outputId": "79e854d8-f316-4a2e-ac36-e49388381302"
      },
      "execution_count": 43,
      "outputs": [
        {
          "output_type": "display_data",
          "data": {
            "text/plain": [
              "<Figure size 432x288 with 1 Axes>"
            ],
            "image/png": "[encoded data removed]"
          },
          "metadata": {
            "needs_background": "light"
          }
        }
      ]
    },
    {
      "cell_type": "markdown",
      "source": [
        "### Análisis de resultados\n",
        "\n",
        "Resultados\n",
        "Podemos notar que mergesort es mas lento que quicksort, esto se puede deber a que mergesort a diferencia de quicksort no tiene mejor caso, por lo que siempre se ejecutara completamente sin importar el arreglo recibido.Tambien se puede notar algunas irregularides, esas pueden ser causadas por el compilador."
      ],
      "metadata": {
        "id": "8lSmgt-vvpWB"
      }
    }
  ]
}